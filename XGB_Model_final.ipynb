{
 "cells": [
  {
   "cell_type": "code",
   "execution_count": 1,
   "id": "b177da58",
   "metadata": {
    "id": "b177da58"
   },
   "outputs": [],
   "source": [
    "import pandas as pd\n",
    "import xgboost as xgb\n",
    "import matplotlib.pyplot as plt\n",
    "from imblearn.combine import SMOTEENN\n",
    "from sklearn import metrics\n",
    "from sklearn.model_selection import train_test_split\n",
    "from sklearn.metrics import confusion_matrix, classification_report, accuracy_score, roc_auc_score, classification_report\n",
    "from sklearn.feature_selection import mutual_info_classif\n",
    "from sklearn.model_selection import GridSearchCV\n",
    "from sklearn.model_selection import RandomizedSearchCV\n",
    "from sklearn.model_selection import StratifiedKFold\n",
    "#import lightgbm as lgb\n",
    "\n",
    "import numpy as np\n",
    "import time"
   ]
  },
  {
   "cell_type": "code",
   "execution_count": 2,
   "id": "b2b26473",
   "metadata": {
    "colab": {
     "base_uri": "https://localhost:8080/",
     "height": 329
    },
    "id": "b2b26473",
    "outputId": "40594a07-6f36-4b88-804f-8aa0a3b6e06b"
   },
   "outputs": [],
   "source": [
    "train = pd.read_csv('./df_train.csv')\n",
    "test = pd.read_csv('./df_test.csv')"
   ]
  },
  {
   "cell_type": "code",
   "execution_count": 3,
   "id": "a9edde18",
   "metadata": {
    "id": "a9edde18"
   },
   "outputs": [],
   "source": [
    "X = train.drop(['Unnamed: 0','id','f_27','target'],axis=1)\n",
    "y = train['target']\n",
    "test.drop(['Unnamed: 0','id','f_27'],axis=1, inplace=True)"
   ]
  },
  {
   "cell_type": "code",
   "execution_count": 4,
   "id": "HcuTKYW_xvTl",
   "metadata": {
    "id": "HcuTKYW_xvTl"
   },
   "outputs": [
    {
     "data": {
      "text/plain": [
       "Index(['f_00', 'f_01', 'f_02', 'f_03', 'f_04', 'f_05', 'f_06', 'f_07', 'f_08',\n",
       "       'f_09', 'f_10', 'f_11', 'f_12', 'f_13', 'f_14', 'f_15', 'f_16', 'f_17',\n",
       "       'f_18', 'f_19', 'f_20', 'f_21', 'f_22', 'f_23', 'f_24', 'f_25', 'f_26',\n",
       "       'f_28', 'f_29', 'f_30', 'f_27_set_len', '0', '1', '2', '3', '4', '5',\n",
       "       '6', '7', '8', '9', 'sum_05_22', 'sum_02_21', 'sum_00_01_26'],\n",
       "      dtype='object')"
      ]
     },
     "execution_count": 4,
     "metadata": {},
     "output_type": "execute_result"
    }
   ],
   "source": [
    "X_train, X_test, y_train, y_test = train_test_split(X, y, test_size = 0.2, random_state = 101, stratify=y)\n",
    "X_train.columns"
   ]
  },
  {
   "cell_type": "markdown",
   "id": "leH0X2bDn08A",
   "metadata": {
    "id": "leH0X2bDn08A"
   },
   "source": [
    "### HPT"
   ]
  },
  {
   "cell_type": "code",
   "execution_count": 6,
   "id": "1FiCwIpwSQmg",
   "metadata": {
    "id": "1FiCwIpwSQmg"
   },
   "outputs": [
    {
     "data": {
      "text/html": [
       "<style>#sk-container-id-1 {color: black;background-color: white;}#sk-container-id-1 pre{padding: 0;}#sk-container-id-1 div.sk-toggleable {background-color: white;}#sk-container-id-1 label.sk-toggleable__label {cursor: pointer;display: block;width: 100%;margin-bottom: 0;padding: 0.3em;box-sizing: border-box;text-align: center;}#sk-container-id-1 label.sk-toggleable__label-arrow:before {content: \"▸\";float: left;margin-right: 0.25em;color: #696969;}#sk-container-id-1 label.sk-toggleable__label-arrow:hover:before {color: black;}#sk-container-id-1 div.sk-estimator:hover label.sk-toggleable__label-arrow:before {color: black;}#sk-container-id-1 div.sk-toggleable__content {max-height: 0;max-width: 0;overflow: hidden;text-align: left;background-color: #f0f8ff;}#sk-container-id-1 div.sk-toggleable__content pre {margin: 0.2em;color: black;border-radius: 0.25em;background-color: #f0f8ff;}#sk-container-id-1 input.sk-toggleable__control:checked~div.sk-toggleable__content {max-height: 200px;max-width: 100%;overflow: auto;}#sk-container-id-1 input.sk-toggleable__control:checked~label.sk-toggleable__label-arrow:before {content: \"▾\";}#sk-container-id-1 div.sk-estimator input.sk-toggleable__control:checked~label.sk-toggleable__label {background-color: #d4ebff;}#sk-container-id-1 div.sk-label input.sk-toggleable__control:checked~label.sk-toggleable__label {background-color: #d4ebff;}#sk-container-id-1 input.sk-hidden--visually {border: 0;clip: rect(1px 1px 1px 1px);clip: rect(1px, 1px, 1px, 1px);height: 1px;margin: -1px;overflow: hidden;padding: 0;position: absolute;width: 1px;}#sk-container-id-1 div.sk-estimator {font-family: monospace;background-color: #f0f8ff;border: 1px dotted black;border-radius: 0.25em;box-sizing: border-box;margin-bottom: 0.5em;}#sk-container-id-1 div.sk-estimator:hover {background-color: #d4ebff;}#sk-container-id-1 div.sk-parallel-item::after {content: \"\";width: 100%;border-bottom: 1px solid gray;flex-grow: 1;}#sk-container-id-1 div.sk-label:hover label.sk-toggleable__label {background-color: #d4ebff;}#sk-container-id-1 div.sk-serial::before {content: \"\";position: absolute;border-left: 1px solid gray;box-sizing: border-box;top: 0;bottom: 0;left: 50%;z-index: 0;}#sk-container-id-1 div.sk-serial {display: flex;flex-direction: column;align-items: center;background-color: white;padding-right: 0.2em;padding-left: 0.2em;position: relative;}#sk-container-id-1 div.sk-item {position: relative;z-index: 1;}#sk-container-id-1 div.sk-parallel {display: flex;align-items: stretch;justify-content: center;background-color: white;position: relative;}#sk-container-id-1 div.sk-item::before, #sk-container-id-1 div.sk-parallel-item::before {content: \"\";position: absolute;border-left: 1px solid gray;box-sizing: border-box;top: 0;bottom: 0;left: 50%;z-index: -1;}#sk-container-id-1 div.sk-parallel-item {display: flex;flex-direction: column;z-index: 1;position: relative;background-color: white;}#sk-container-id-1 div.sk-parallel-item:first-child::after {align-self: flex-end;width: 50%;}#sk-container-id-1 div.sk-parallel-item:last-child::after {align-self: flex-start;width: 50%;}#sk-container-id-1 div.sk-parallel-item:only-child::after {width: 0;}#sk-container-id-1 div.sk-dashed-wrapped {border: 1px dashed gray;margin: 0 0.4em 0.5em 0.4em;box-sizing: border-box;padding-bottom: 0.4em;background-color: white;}#sk-container-id-1 div.sk-label label {font-family: monospace;font-weight: bold;display: inline-block;line-height: 1.2em;}#sk-container-id-1 div.sk-label-container {text-align: center;}#sk-container-id-1 div.sk-container {/* jupyter's `normalize.less` sets `[hidden] { display: none; }` but bootstrap.min.css set `[hidden] { display: none !important; }` so we also need the `!important` here to be able to override the default hidden behavior on the sphinx rendered scikit-learn.org. See: https://github.com/scikit-learn/scikit-learn/issues/21755 */display: inline-block !important;position: relative;}#sk-container-id-1 div.sk-text-repr-fallback {display: none;}</style><div id=\"sk-container-id-1\" class=\"sk-top-container\"><div class=\"sk-text-repr-fallback\"><pre>XGBClassifier(base_score=0.5, booster=&#x27;gbtree&#x27;, callbacks=None,\n",
       "              colsample_bylevel=1, colsample_bynode=1, colsample_bytree=1,\n",
       "              early_stopping_rounds=None, enable_categorical=False,\n",
       "              eval_metric=None, gamma=0, gpu_id=0, grow_policy=&#x27;depthwise&#x27;,\n",
       "              importance_type=None, interaction_constraints=&#x27;&#x27;,\n",
       "              learning_rate=0.300000012, max_bin=256, max_cat_to_onehot=4,\n",
       "              max_delta_step=0, max_depth=6, max_leaves=0, min_child_weight=1,\n",
       "              missing=nan, monotone_constraints=&#x27;()&#x27;, n_estimators=100,\n",
       "              n_jobs=0, num_parallel_tree=1, predictor=&#x27;auto&#x27;, random_state=42,\n",
       "              reg_alpha=0, reg_lambda=1, ...)</pre><b>In a Jupyter environment, please rerun this cell to show the HTML representation or trust the notebook. <br />On GitHub, the HTML representation is unable to render, please try loading this page with nbviewer.org.</b></div><div class=\"sk-container\" hidden><div class=\"sk-item\"><div class=\"sk-estimator sk-toggleable\"><input class=\"sk-toggleable__control sk-hidden--visually\" id=\"sk-estimator-id-1\" type=\"checkbox\" checked><label for=\"sk-estimator-id-1\" class=\"sk-toggleable__label sk-toggleable__label-arrow\">XGBClassifier</label><div class=\"sk-toggleable__content\"><pre>XGBClassifier(base_score=0.5, booster=&#x27;gbtree&#x27;, callbacks=None,\n",
       "              colsample_bylevel=1, colsample_bynode=1, colsample_bytree=1,\n",
       "              early_stopping_rounds=None, enable_categorical=False,\n",
       "              eval_metric=None, gamma=0, gpu_id=0, grow_policy=&#x27;depthwise&#x27;,\n",
       "              importance_type=None, interaction_constraints=&#x27;&#x27;,\n",
       "              learning_rate=0.300000012, max_bin=256, max_cat_to_onehot=4,\n",
       "              max_delta_step=0, max_depth=6, max_leaves=0, min_child_weight=1,\n",
       "              missing=nan, monotone_constraints=&#x27;()&#x27;, n_estimators=100,\n",
       "              n_jobs=0, num_parallel_tree=1, predictor=&#x27;auto&#x27;, random_state=42,\n",
       "              reg_alpha=0, reg_lambda=1, ...)</pre></div></div></div></div></div>"
      ],
      "text/plain": [
       "XGBClassifier(base_score=0.5, booster='gbtree', callbacks=None,\n",
       "              colsample_bylevel=1, colsample_bynode=1, colsample_bytree=1,\n",
       "              early_stopping_rounds=None, enable_categorical=False,\n",
       "              eval_metric=None, gamma=0, gpu_id=0, grow_policy='depthwise',\n",
       "              importance_type=None, interaction_constraints='',\n",
       "              learning_rate=0.300000012, max_bin=256, max_cat_to_onehot=4,\n",
       "              max_delta_step=0, max_depth=6, max_leaves=0, min_child_weight=1,\n",
       "              missing=nan, monotone_constraints='()', n_estimators=100,\n",
       "              n_jobs=0, num_parallel_tree=1, predictor='auto', random_state=42,\n",
       "              reg_alpha=0, reg_lambda=1, ...)"
      ]
     },
     "execution_count": 6,
     "metadata": {},
     "output_type": "execute_result"
    }
   ],
   "source": [
    "# run with full fe, without hpt\n",
    "model_xgb = xgb.XGBClassifier(random_state=42, tree_method='gpu_hist')\n",
    "model_xgb.fit(X_train, y_train)"
   ]
  },
  {
   "cell_type": "code",
   "execution_count": 7,
   "id": "9aXAjdy-SwiP",
   "metadata": {
    "colab": {
     "base_uri": "https://localhost:8080/",
     "height": 549
    },
    "id": "9aXAjdy-SwiP",
    "outputId": "a5efc1c0-93b2-454c-e0be-f4f7ddd9b921"
   },
   "outputs": [
    {
     "name": "stdout",
     "output_type": "stream",
     "text": [
      "Accuracy is:  94.84\n",
      "[[88214  4241]\n",
      " [ 5050 82495]]\n",
      "              precision    recall  f1-score   support\n",
      "\n",
      "           0       0.95      0.95      0.95     92455\n",
      "           1       0.95      0.94      0.95     87545\n",
      "\n",
      "    accuracy                           0.95    180000\n",
      "   macro avg       0.95      0.95      0.95    180000\n",
      "weighted avg       0.95      0.95      0.95    180000\n",
      "\n"
     ]
    },
    {
     "name": "stderr",
     "output_type": "stream",
     "text": [
      "C:\\Users\\kforkai\\anaconda3\\lib\\site-packages\\sklearn\\utils\\deprecation.py:87: FutureWarning: Function plot_roc_curve is deprecated; Function :func:`plot_roc_curve` is deprecated in 1.0 and will be removed in 1.2. Use one of the class methods: :meth:`sklearn.metric.RocCurveDisplay.from_predictions` or :meth:`sklearn.metric.RocCurveDisplay.from_estimator`.\n",
      "  warnings.warn(msg, category=FutureWarning)\n"
     ]
    },
    {
     "data": {
      "image/png": "[encoded data removed]",
      "text/plain": [
       "<Figure size 432x288 with 1 Axes>"
      ]
     },
     "metadata": {
      "needs_background": "light"
     },
     "output_type": "display_data"
    }
   ],
   "source": [
    "# performance without hpt\n",
    "y_pred_xgb = model_xgb.predict(X_test)\n",
    "result_xgb = accuracy_score(y_test, y_pred_xgb)\n",
    "print('Accuracy is: ', round(result_xgb*100, 2))\n",
    "print(confusion_matrix(y_test, y_pred_xgb))\n",
    "print(classification_report(y_test, y_pred_xgb))\n",
    "\n",
    "metrics.plot_roc_curve(model_xgb, X_test, y_test)  \n",
    "plt.show()"
   ]
  },
  {
   "cell_type": "code",
   "execution_count": 8,
   "id": "okuVZHLUUiwM",
   "metadata": {
    "colab": {
     "base_uri": "https://localhost:8080/"
    },
    "id": "okuVZHLUUiwM",
    "outputId": "30386fcd-374a-4ea5-f93a-24085c3c7da0"
   },
   "outputs": [
    {
     "name": "stdout",
     "output_type": "stream",
     "text": [
      "n_estimators: 250, max_depth: 4\n",
      "Accuracy:  0.9435055555555556\n",
      "n_estimators: 250, max_depth: 6\n",
      "Accuracy:  0.9630944444444445\n",
      "n_estimators: 250, max_depth: 8\n",
      "Accuracy:  0.9675833333333334\n",
      "n_estimators: 250, max_depth: 10\n",
      "Accuracy:  0.9675\n",
      "n_estimators: 500, max_depth: 4\n",
      "Accuracy:  0.9585833333333333\n",
      "n_estimators: 500, max_depth: 6\n",
      "Accuracy:  0.9679277777777778\n",
      "n_estimators: 500, max_depth: 8\n",
      "Accuracy:  0.9694166666666667\n",
      "n_estimators: 500, max_depth: 10\n",
      "Accuracy:  0.9688611111111111\n",
      "n_estimators: 750, max_depth: 4\n",
      "Accuracy:  0.9633777777777778\n",
      "n_estimators: 750, max_depth: 6\n",
      "Accuracy:  0.9687166666666667\n",
      "n_estimators: 750, max_depth: 8\n",
      "Accuracy:  0.9695888888888888\n",
      "n_estimators: 750, max_depth: 10\n",
      "Accuracy:  0.9698333333333333\n",
      "n_estimators: 1000, max_depth: 4\n",
      "Accuracy:  0.9647833333333333\n",
      "n_estimators: 1000, max_depth: 6\n",
      "Accuracy:  0.9685777777777778\n",
      "n_estimators: 1000, max_depth: 8\n",
      "Accuracy:  0.9699555555555556\n",
      "n_estimators: 1000, max_depth: 10\n",
      "Accuracy:  0.9701166666666666\n"
     ]
    }
   ],
   "source": [
    "# Manual HPT, n_estimators & max_depth are proportional to the accuracy, get accuracy 97.015%\n",
    "n_estimators_list = [250, 500, 750, 1000]\n",
    "max_depth_list = [4, 6, 8, 10]\n",
    "\n",
    "for estim_list in n_estimators_list:\n",
    "  for depth_list in max_depth_list:\n",
    "    model = xgb.XGBClassifier(n_estimators=estim_list, max_depth=depth_list, random_state=42, tree_method='gpu_hist')\n",
    "    model.fit(X_train, y_train)\n",
    "    y_pred = model.predict(X_test)\n",
    "    result = confusion_matrix(y_test, y_pred)\n",
    "    result2 = accuracy_score(y_test, y_pred)\n",
    "    print(f'n_estimators: {estim_list}, max_depth: {depth_list}')\n",
    "    print('Accuracy: ', result2)"
   ]
  },
  {
   "cell_type": "code",
   "execution_count": null,
   "id": "pKmKDno2XaVP",
   "metadata": {
    "colab": {
     "base_uri": "https://localhost:8080/"
    },
    "id": "pKmKDno2XaVP",
    "outputId": "3a51277e-6efd-4cdd-ca87-7ce3a480c34c"
   },
   "outputs": [
    {
     "name": "stdout",
     "output_type": "stream",
     "text": [
      "Fitting 5 folds for each of 5 candidates, totalling 25 fits\n"
     ]
    },
    {
     "data": {
      "text/plain": [
       "XGBClassifier(colsample_bytree=0.5, gamma=0.5, learning_rate=0.4, max_depth=10,\n",
       "              n_estimators=1500, random_state=42, tree_method='gpu_hist')"
      ]
     },
     "execution_count": 23,
     "metadata": {},
     "output_type": "execute_result"
    }
   ],
   "source": [
    "# Randomised HPT with more parameters\n",
    "params = {\"learning_rate\" : [0.20, 0.30, 0.40],\n",
    "          \"max_depth\" : [4, 6, 8, 10],\n",
    "          \"min_child_weight\" : [1, 3, 5],\n",
    "          \"gamma\": [0.0, 0.5, 1],\n",
    "          \"colsample_bytree\" : [0.2, 0.5, 1],\n",
    "          \"n_estimators\" : [500, 1000, 1500, 2000]}\n",
    "rs_model = RandomizedSearchCV(model_xgb,param_distributions=params,n_iter=5,scoring='roc_auc',n_jobs=-1,cv=5,verbose=3)\n",
    "rs_model.fit(X,y)\n",
    "rs_model.best_estimator_"
   ]
  },
  {
   "cell_type": "code",
   "execution_count": null,
   "id": "7wGhNhKrZo9W",
   "metadata": {
    "colab": {
     "base_uri": "https://localhost:8080/",
     "height": 549
    },
    "id": "7wGhNhKrZo9W",
    "outputId": "ed1d80c3-fe1a-4354-ee2b-d72dff7e266d"
   },
   "outputs": [
    {
     "name": "stdout",
     "output_type": "stream",
     "text": [
      "Accuracy is:  96.83\n",
      "[[89771  2684]\n",
      " [ 3029 84516]]\n",
      "              precision    recall  f1-score   support\n",
      "\n",
      "           0       0.97      0.97      0.97     92455\n",
      "           1       0.97      0.97      0.97     87545\n",
      "\n",
      "    accuracy                           0.97    180000\n",
      "   macro avg       0.97      0.97      0.97    180000\n",
      "weighted avg       0.97      0.97      0.97    180000\n",
      "\n"
     ]
    },
    {
     "name": "stderr",
     "output_type": "stream",
     "text": [
      "/usr/local/lib/python3.7/dist-packages/sklearn/utils/deprecation.py:87: FutureWarning: Function plot_roc_curve is deprecated; Function :func:`plot_roc_curve` is deprecated in 1.0 and will be removed in 1.2. Use one of the class methods: :meth:`sklearn.metric.RocCurveDisplay.from_predictions` or :meth:`sklearn.metric.RocCurveDisplay.from_estimator`.\n",
      "  warnings.warn(msg, category=FutureWarning)\n"
     ]
    },
    {
     "data": {
      "image/png": "[encoded data removed]",
      "text/plain": [
       "<Figure size 432x288 with 1 Axes>"
      ]
     },
     "metadata": {
      "needs_background": "light"
     },
     "output_type": "display_data"
    }
   ],
   "source": [
    "# Check Randomised HPT result, worst than manual HPT\n",
    "model_xgb_rs_hpt = xgb.XGBClassifier(colsample_bytree=0.5, gamma=0.5, learning_rate=0.4, max_depth=10, n_estimators=1500, random_state=42, tree_method='gpu_hist')\n",
    "model_xgb_rs_hpt.fit(X_train, y_train)\n",
    "y_pred_xgb_rs_hpt = model_xgb_rs_hpt.predict(X_test)\n",
    "result_xgb = accuracy_score(y_test, y_pred_xgb_rs_hpt)\n",
    "print('Accuracy is: ', round(result_xgb*100, 2))\n",
    "print(confusion_matrix(y_test, y_pred_xgb_rs_hpt))\n",
    "print(classification_report(y_test, y_pred_xgb_rs_hpt))\n",
    "\n",
    "metrics.plot_roc_curve(model_xgb_rs_hpt, X_test, y_test)  \n",
    "plt.show()"
   ]
  },
  {
   "cell_type": "code",
   "execution_count": null,
   "id": "QJuwsHtHaOe2",
   "metadata": {
    "colab": {
     "base_uri": "https://localhost:8080/"
    },
    "id": "QJuwsHtHaOe2",
    "outputId": "157a69f9-0c79-4ba4-c8c1-e6bde2d68e1b"
   },
   "outputs": [
    {
     "name": "stdout",
     "output_type": "stream",
     "text": [
      "n_estimators: 1000, max_depth: 8\n",
      "Accuracy:  0.9697888888888889\n",
      "n_estimators: 1000, max_depth: 10\n",
      "Accuracy:  0.9692277777777778\n",
      "n_estimators: 1000, max_depth: 12\n",
      "Accuracy:  0.9685944444444444\n",
      "n_estimators: 1000, max_depth: 14\n",
      "Accuracy:  0.9679055555555556\n",
      "n_estimators: 1500, max_depth: 8\n",
      "Accuracy:  0.9700388888888889\n",
      "n_estimators: 1500, max_depth: 10\n",
      "Accuracy:  0.9697166666666667\n",
      "n_estimators: 1500, max_depth: 12\n",
      "Accuracy:  0.9695166666666667\n",
      "n_estimators: 1500, max_depth: 14\n",
      "Accuracy:  0.9688222222222223\n",
      "n_estimators: 2000, max_depth: 8\n",
      "Accuracy:  0.9702666666666667\n",
      "n_estimators: 2000, max_depth: 10\n",
      "Accuracy:  0.9696388888888889\n",
      "n_estimators: 2000, max_depth: 12\n",
      "Accuracy:  0.9699833333333333\n",
      "n_estimators: 2000, max_depth: 14\n",
      "Accuracy:  0.9691722222222222\n"
     ]
    }
   ],
   "source": [
    "# More manual HPT, get the highest accuracy 97.02%\n",
    "n_estimators_list_2 = [1000, 1500, 2000]\n",
    "max_depth_list_2 = [8, 10, 12, 14]\n",
    "\n",
    "for estim_list in n_estimators_list_2:\n",
    "  for depth_list in max_depth_list_2:\n",
    "    model = xgb.XGBClassifier(n_estimators=estim_list, max_depth=depth_list, random_state=42, tree_method='gpu_hist')\n",
    "    model.fit(X_train, y_train)\n",
    "    y_pred = model.predict(X_test)\n",
    "    result = confusion_matrix(y_test, y_pred)\n",
    "    result2 = accuracy_score(y_test, y_pred)\n",
    "    print(f'n_estimators: {estim_list}, max_depth: {depth_list}')\n",
    "    print('Accuracy: ', result2)"
   ]
  },
  {
   "cell_type": "code",
   "execution_count": null,
   "id": "9Q7nbpZzk_YM",
   "metadata": {
    "colab": {
     "base_uri": "https://localhost:8080/",
     "height": 549
    },
    "id": "9Q7nbpZzk_YM",
    "outputId": "b331d79d-34f7-4298-c682-0d7a0da3699e"
   },
   "outputs": [
    {
     "name": "stdout",
     "output_type": "stream",
     "text": [
      "Accuracy is:  97.11\n",
      "[[89964  2468]\n",
      " [ 2734 84834]]\n",
      "              precision    recall  f1-score   support\n",
      "\n",
      "           0       0.97      0.97      0.97     92432\n",
      "           1       0.97      0.97      0.97     87568\n",
      "\n",
      "    accuracy                           0.97    180000\n",
      "   macro avg       0.97      0.97      0.97    180000\n",
      "weighted avg       0.97      0.97      0.97    180000\n",
      "\n",
      "Accuracy is:  97.11\n",
      "[[89964  2468]\n",
      " [ 2734 84834]]\n",
      "              precision    recall  f1-score   support\n",
      "\n",
      "           0       0.97      0.97      0.97     92432\n",
      "           1       0.97      0.97      0.97     87568\n",
      "\n",
      "    accuracy                           0.97    180000\n",
      "   macro avg       0.97      0.97      0.97    180000\n",
      "weighted avg       0.97      0.97      0.97    180000\n",
      "\n"
     ]
    }
   ],
   "source": [
    "# Performance with full fe, and hpt\n",
    "model_xgb_final = xgb.XGBClassifier(n_estimators=2000, max_depth=8, random_state=42, tree_method='gpu_hist')\n",
    "model_xgb_final.fit(X_train, y_train)\n",
    "y_pred_xgb_final = model_xgb_final.predict(X_test)\n",
    "result_xgb = accuracy_score(y_test, y_pred_xgb_final)\n",
    "print('Accuracy is: ', round(result_xgb*100, 2))\n",
    "print(confusion_matrix(y_test, y_pred_xgb_final))\n",
    "print(classification_report(y_test, y_pred_xgb_final))\n",
    "\n",
    "metrics.plot_roc_curve(model_xgb_final, X_test, y_test)  \n",
    "plt.show()"
   ]
  },
  {
   "cell_type": "markdown",
   "id": "e3jeqqmgH5V6",
   "metadata": {
    "id": "e3jeqqmgH5V6"
   },
   "source": [
    "### LGBM model"
   ]
  },
  {
   "cell_type": "code",
   "execution_count": null,
   "id": "1edc4882",
   "metadata": {
    "id": "1edc4882"
   },
   "outputs": [],
   "source": [
    "#accuary and run time on this model was slower than xgboost so it wasnt implemented\n",
    "model_lgb = lgb.LGBMClassifier(random_state=42, objective= 'binary',max_cat_to_onehot=10,n_estimators=750)\n",
    "start = time.time()\n",
    "model_lgb.fit(X_train, y_train)\n",
    "end = time.time()\n",
    "print(end-start)"
   ]
  },
  {
   "cell_type": "code",
   "execution_count": null,
   "id": "IPdOmZCRIiFi",
   "metadata": {
    "id": "IPdOmZCRIiFi"
   },
   "outputs": [],
   "source": [
    "print(model_lgb.score(X_test,y_test))"
   ]
  },
  {
   "cell_type": "code",
   "execution_count": null,
   "id": "4YhQsJdkIrLR",
   "metadata": {
    "id": "4YhQsJdkIrLR"
   },
   "outputs": [],
   "source": [
    "classification_report(y_predict, y_test)"
   ]
  },
  {
   "cell_type": "markdown",
   "id": "ah7sMvXLnCXO",
   "metadata": {
    "id": "ah7sMvXLnCXO"
   },
   "source": [
    "### SMOTEENN\n",
    "##### Since dataset was balanced, SMOTE did not contribute to accuracy"
   ]
  },
  {
   "cell_type": "code",
   "execution_count": null,
   "id": "f857b62c",
   "metadata": {
    "id": "f857b62c"
   },
   "outputs": [],
   "source": [
    "# resulted in reduced accuracy\n",
    "sm = SMOTEENN()\n",
    "X_smote, y_smote = sm.fit_resample(X,y)"
   ]
  },
  {
   "cell_type": "code",
   "execution_count": null,
   "id": "3f56e556",
   "metadata": {
    "id": "3f56e556",
    "outputId": "80e05f31-be58-40d6-80e2-1d5c462daf28"
   },
   "outputs": [
    {
     "data": {
      "text/plain": [
       "Index(['f_00', 'f_01', 'f_02', 'f_03', 'f_04', 'f_05', 'f_06', 'f_07', 'f_08',\n",
       "       'f_09', 'f_10', 'f_11', 'f_12', 'f_13', 'f_14', 'f_15', 'f_16', 'f_17',\n",
       "       'f_18', 'f_19', 'f_20', 'f_21', 'f_22', 'f_23', 'f_24', 'f_25', 'f_26',\n",
       "       'f_28', 'f_29', 'f_30', 'f_27_set_len', '0', '1', '2', '3', '4', '5',\n",
       "       '6', '7', '8', '9', 'sum_05_22', 'sum_02_21', 'sum_00_01_26'],\n",
       "      dtype='object')"
      ]
     },
     "execution_count": 60,
     "metadata": {},
     "output_type": "execute_result"
    }
   ],
   "source": [
    "# Using SMOTE-resampled data\n",
    "X_train, X_test, y_train, y_test =  train_test_split(X_smote,y_smote,test_size=0.30,random_state=28)  "
   ]
  },
  {
   "cell_type": "code",
   "execution_count": null,
   "id": "79e0619a",
   "metadata": {
    "id": "79e0619a"
   },
   "outputs": [],
   "source": [
    "model_xgb = xgb.XGBClassifier(tree_method='gpu_hist', random_state=28, max_cat_to_onehot=10, booster='gbtree', n_estimators=750, max_depth=10)"
   ]
  },
  {
   "cell_type": "code",
   "execution_count": null,
   "id": "c100362c",
   "metadata": {
    "id": "c100362c",
    "outputId": "c729dbc6-1723-410b-912b-e5d291026cbe"
   },
   "outputs": [
    {
     "name": "stdout",
     "output_type": "stream",
     "text": [
      "time taken:133.66651320457458\n",
      "accuracy:96.98\n"
     ]
    }
   ],
   "source": [
    "start = time.time()\n",
    "model_xgb.fit(X_train, y_train)\n",
    "end = time.time()\n",
    "y_predict = model_xgb.predict(X_test)\n",
    "print(f'time taken:{end-start}\\naccuracy:{round(accuracy_score(y_predict, y_test)*100,2)}')"
   ]
  },
  {
   "cell_type": "code",
   "execution_count": null,
   "id": "9a961c38",
   "metadata": {
    "id": "9a961c38",
    "outputId": "4cb54ec9-d82b-4216-8ea0-c9087c6ffecc",
    "scrolled": true
   },
   "outputs": [
    {
     "name": "stdout",
     "output_type": "stream",
     "text": [
      "              precision    recall  f1-score   support\n",
      "\n",
      "           0       0.97      0.97      0.97    138695\n",
      "           1       0.97      0.97      0.97    131305\n",
      "\n",
      "    accuracy                           0.97    270000\n",
      "   macro avg       0.97      0.97      0.97    270000\n",
      "weighted avg       0.97      0.97      0.97    270000\n",
      "\n"
     ]
    }
   ],
   "source": [
    "result = classification_report(y_predict, y_test)\n",
    "print(result)"
   ]
  },
  {
   "cell_type": "code",
   "execution_count": null,
   "id": "787ab768",
   "metadata": {
    "id": "787ab768"
   },
   "outputs": [],
   "source": []
  },
  {
   "cell_type": "markdown",
   "id": "JM7e3Ma6z5Rh",
   "metadata": {
    "id": "JM7e3Ma6z5Rh"
   },
   "source": [
    "### K-folds\n",
    "##### Likewise, did not add value to scores"
   ]
  },
  {
   "cell_type": "code",
   "execution_count": null,
   "id": "1233fad8",
   "metadata": {
    "id": "1233fad8"
   },
   "outputs": [],
   "source": [
    "def get_score(model, X_train, X_test, y_train, y_test):\n",
    "    model.fit(X_train, y_train)\n",
    "    return model.score(X_test, y_test)"
   ]
  },
  {
   "cell_type": "code",
   "execution_count": null,
   "id": "043f3d56",
   "metadata": {
    "id": "043f3d56"
   },
   "outputs": [],
   "source": [
    "folds = StratifiedKFold(n_splits=10)\n",
    "\n",
    "scores_xgb = []\n",
    "\n",
    "for train_index, test_index in folds.split(X,y):\n",
    "    X_train, X_test, y_train, y_test =  train_test_split(X,y,test_size=0.20,random_state=101)\n",
    "    scores_xgb.append(get_score(xgb.XGBClassifier(random_state=28,tree_method='gpu_hist', n_estimators=5000, max_depth=15, booster='gbtree', learning_rate=0.4), X_train, X_test, y_train, y_test))"
   ]
  },
  {
   "cell_type": "code",
   "execution_count": null,
   "id": "c25f654e",
   "metadata": {
    "id": "c25f654e",
    "outputId": "013e42d4-5fdd-473a-90d8-536e47dd77e0"
   },
   "outputs": [
    {
     "data": {
      "text/plain": [
       "[0.9695962962962963,\n",
       " 0.9695962962962963,\n",
       " 0.9695962962962963,\n",
       " 0.9695962962962963,\n",
       " 0.9695962962962963,\n",
       " 0.9695962962962963,\n",
       " 0.9695962962962963,\n",
       " 0.9695962962962963,\n",
       " 0.9695962962962963,\n",
       " 0.9695962962962963]"
      ]
     },
     "execution_count": 57,
     "metadata": {},
     "output_type": "execute_result"
    }
   ],
   "source": [
    "scores_xgb"
   ]
  },
  {
   "cell_type": "markdown",
   "id": "755bcdc0",
   "metadata": {
    "id": "755bcdc0"
   },
   "source": [
    "### Kaggle submission: prediction and export to .csv "
   ]
  },
  {
   "cell_type": "code",
   "execution_count": null,
   "id": "53fa974a",
   "metadata": {
    "id": "53fa974a"
   },
   "outputs": [],
   "source": [
    "# Rerun model with entire training data to improve prediction for Kaggle\n",
    "# model_xgb.fit(X,y)"
   ]
  },
  {
   "cell_type": "code",
   "execution_count": null,
   "id": "1e73b01f",
   "metadata": {
    "id": "1e73b01f"
   },
   "outputs": [],
   "source": [
    "pred = model_xgb.predict(test)"
   ]
  },
  {
   "cell_type": "code",
   "execution_count": null,
   "id": "ccfb457c",
   "metadata": {
    "id": "ccfb457c",
    "outputId": "4bac349d-8b12-4c4b-8f7c-29767f8a00f5"
   },
   "outputs": [
    {
     "data": {
      "text/plain": [
       "target\n",
       "0         360820\n",
       "1         339180\n",
       "dtype: int64"
      ]
     },
     "execution_count": 49,
     "metadata": {},
     "output_type": "execute_result"
    }
   ],
   "source": [
    "df_test = pd.read_csv('./df_test.csv')\n",
    "\n",
    "test_id = df_test.id.values\n",
    "submission_df = pd.DataFrame({\n",
    "    \"id\" : test_id,\n",
    "    \"target\": pred\n",
    "})\n",
    "\n",
    "submission_df.set_index('id', inplace=True)\n",
    "submission_df.value_counts()"
   ]
  },
  {
   "cell_type": "code",
   "execution_count": null,
   "id": "9e41b92d",
   "metadata": {
    "id": "9e41b92d"
   },
   "outputs": [],
   "source": [
    "submission_df.to_csv('submission_05-30.csv')"
   ]
  },
  {
   "cell_type": "code",
   "execution_count": null,
   "id": "58468313",
   "metadata": {
    "id": "58468313"
   },
   "outputs": [],
   "source": []
  },
  {
   "cell_type": "code",
   "execution_count": null,
   "id": "a322f744",
   "metadata": {
    "id": "a322f744"
   },
   "outputs": [],
   "source": []
  },
  {
   "cell_type": "code",
   "execution_count": null,
   "id": "fb8039fc",
   "metadata": {
    "id": "fb8039fc",
    "outputId": "7f101e82-a505-4515-cd41-8ec03fde2527"
   },
   "outputs": [
    {
     "data": {
      "text/plain": [
       "f_27_set_len    0.054406\n",
       "2               0.037095\n",
       "sum_00_01_26    0.028178\n",
       "f_30            0.026884\n",
       "0               0.023924\n",
       "9               0.022775\n",
       "8               0.018602\n",
       "sum_02_21       0.018495\n",
       "5               0.017994\n",
       "1               0.016842\n",
       "4               0.016428\n",
       "3               0.015800\n",
       "6               0.015239\n",
       "f_15            0.015105\n",
       "f_11            0.014056\n",
       "f_13            0.013471\n",
       "f_14            0.013362\n",
       "f_16            0.012875\n",
       "f_10            0.012777\n",
       "f_08            0.012742\n",
       "sum_05_22       0.012684\n",
       "f_09            0.012578\n",
       "f_21            0.012405\n",
       "f_17            0.012022\n",
       "f_12            0.011907\n",
       "f_18            0.011108\n",
       "f_07            0.010408\n",
       "7               0.010269\n",
       "f_29            0.009852\n",
       "f_26            0.008408\n",
       "f_28            0.005725\n",
       "f_23            0.005525\n",
       "f_19            0.004731\n",
       "f_22            0.004496\n",
       "f_24            0.003896\n",
       "f_25            0.002733\n",
       "f_00            0.002680\n",
       "f_05            0.001429\n",
       "f_01            0.001210\n",
       "f_20            0.001198\n",
       "f_03            0.000151\n",
       "f_02            0.000040\n",
       "f_06            0.000000\n",
       "f_04            0.000000\n",
       "dtype: float64"
      ]
     },
     "execution_count": 311,
     "metadata": {},
     "output_type": "execute_result"
    }
   ],
   "source": [
    "mutual_info = mutual_info_classif(X_train, y_train)\n",
    "mutual_info = pd.Series(mutual_info)\n",
    "mutual_info.index = X_train.columns\n",
    "mutual_info.sort_values(ascending=False)"
   ]
  },
  {
   "cell_type": "code",
   "execution_count": null,
   "id": "03562e1d",
   "metadata": {
    "id": "03562e1d"
   },
   "outputs": [],
   "source": [
    "#xgb.set_config(use_rmm=True)"
   ]
  },
  {
   "cell_type": "markdown",
   "id": "1b859c47",
   "metadata": {
    "id": "fdc8ddfe"
   },
   "source": [
    "### ANN Approach"
   ]
  },
  {
   "cell_type": "code",
   "execution_count": 5,
   "id": "381dba5c",
   "metadata": {
    "id": "381dba5c"
   },
   "outputs": [],
   "source": [
    "import keras\n",
    "from keras.models import Sequential\n",
    "from keras.layers import Dense"
   ]
  },
  {
   "cell_type": "code",
   "execution_count": 21,
   "id": "6d7f4e96",
   "metadata": {},
   "outputs": [],
   "source": [
    "# Initialising the ANN\n",
    "classifier = Sequential()\n",
    "#units: It's an art, comes by experience, input+output/2\n",
    "#initializer: how your weights are updated\n",
    "#relu activation function\n",
    "#input_dim: input shape (shape of the data, how many features do we have in the data)\n",
    "# Adding the input layer and the first hidden layer\n",
    "classifier.add(Dense(units = 44, kernel_initializer = 'uniform', activation = 'relu', input_dim = 44))\n",
    "\n",
    "# Adding the second hidden layer\n",
    "classifier.add(Dense(units = 22, kernel_initializer = 'uniform', activation = 'relu')) \n",
    "\n",
    "# Adding the third  hidden layer\n",
    "classifier.add(Dense(units = 10, kernel_initializer = 'uniform', activation = 'relu')) \n",
    "\n",
    "# Adding the output layer\n",
    "classifier.add(Dense(units = 1, kernel_initializer = 'uniform', activation = 'sigmoid')) "
   ]
  },
  {
   "cell_type": "code",
   "execution_count": 16,
   "id": "da1bcd93",
   "metadata": {},
   "outputs": [
    {
     "name": "stdout",
     "output_type": "stream",
     "text": [
      "Model: \"sequential_2\"\n",
      "_________________________________________________________________\n",
      " Layer (type)                Output Shape              Param #   \n",
      "=================================================================\n",
      " dense_8 (Dense)             (None, 23)                1035      \n",
      "                                                                 \n",
      " dense_9 (Dense)             (None, 16)                384       \n",
      "                                                                 \n",
      " dense_10 (Dense)            (None, 6)                 102       \n",
      "                                                                 \n",
      " dense_11 (Dense)            (None, 1)                 7         \n",
      "                                                                 \n",
      "=================================================================\n",
      "Total params: 1,528\n",
      "Trainable params: 1,528\n",
      "Non-trainable params: 0\n",
      "_________________________________________________________________\n"
     ]
    }
   ],
   "source": [
    "classifier.summary()"
   ]
  },
  {
   "cell_type": "code",
   "execution_count": 12,
   "id": "17cadb1d",
   "metadata": {},
   "outputs": [],
   "source": [
    "# charting model results\n",
    "def plot_hist(hist):\n",
    "    plt.plot(hist.history[\"accuracy\"])\n",
    "    plt.plot(hist.history[\"val_accuracy\"])\n",
    "    plt.title(\"model accuracy\")\n",
    "    plt.ylabel(\"accuracy\")\n",
    "    plt.xlabel(\"epoch\")\n",
    "    plt.legend([\"train\", \"validation\"], loc=\"upper left\")\n",
    "    plt.show()"
   ]
  },
  {
   "cell_type": "code",
   "execution_count": 22,
   "id": "f8ce5025",
   "metadata": {},
   "outputs": [
    {
     "name": "stdout",
     "output_type": "stream",
     "text": [
      "Epoch 1/10\n",
      "1440/1440 [==============================] - 9s 6ms/step - loss: 0.4530 - accuracy: 0.7846 - val_loss: 0.3525 - val_accuracy: 0.8575\n",
      "Epoch 2/10\n",
      "1440/1440 [==============================] - 9s 6ms/step - loss: 0.3259 - accuracy: 0.8677 - val_loss: 0.3020 - val_accuracy: 0.8780\n",
      "Epoch 3/10\n",
      "1440/1440 [==============================] - 9s 6ms/step - loss: 0.2904 - accuracy: 0.8821 - val_loss: 0.2874 - val_accuracy: 0.8835\n",
      "Epoch 4/10\n",
      "1440/1440 [==============================] - 9s 6ms/step - loss: 0.2720 - accuracy: 0.8900 - val_loss: 0.2665 - val_accuracy: 0.8922\n",
      "Epoch 5/10\n",
      "1440/1440 [==============================] - 9s 6ms/step - loss: 0.2553 - accuracy: 0.8970 - val_loss: 0.2399 - val_accuracy: 0.9047\n",
      "Epoch 6/10\n",
      "1440/1440 [==============================] - 8s 6ms/step - loss: 0.2379 - accuracy: 0.9050 - val_loss: 0.2249 - val_accuracy: 0.9115\n",
      "Epoch 7/10\n",
      "1440/1440 [==============================] - 9s 6ms/step - loss: 0.2223 - accuracy: 0.9121 - val_loss: 0.2203 - val_accuracy: 0.9132\n",
      "Epoch 8/10\n",
      "1440/1440 [==============================] - 9s 6ms/step - loss: 0.2086 - accuracy: 0.9183 - val_loss: 0.1952 - val_accuracy: 0.9244\n",
      "Epoch 9/10\n",
      "1440/1440 [==============================] - 10s 7ms/step - loss: 0.1941 - accuracy: 0.9244 - val_loss: 0.2065 - val_accuracy: 0.9192\n",
      "Epoch 10/10\n",
      "1440/1440 [==============================] - 10s 7ms/step - loss: 0.1825 - accuracy: 0.9289 - val_loss: 0.1735 - val_accuracy: 0.9316\n"
     ]
    },
    {
     "data": {
      "image/png": "[encoded data removed]",
      "text/plain": [
       "<Figure size 432x288 with 1 Axes>"
      ]
     },
     "metadata": {
      "needs_background": "light"
     },
     "output_type": "display_data"
    }
   ],
   "source": [
    "# Compiling the ANN, \n",
    "classifier.compile(optimizer = 'adam', loss = 'binary_crossentropy', metrics = ['accuracy'])\n",
    "y_train[0]\n",
    "# Fitting the ANN to the Training set\n",
    "hist = classifier.fit(X_train, y_train, batch_size = 500, epochs = 10, validation_data=(X_test, y_test))\n",
    "plot_hist(hist)"
   ]
  },
  {
   "cell_type": "code",
   "execution_count": 23,
   "id": "d7c16f18",
   "metadata": {},
   "outputs": [
    {
     "name": "stdout",
     "output_type": "stream",
     "text": [
      "5625/5625 [==============================] - 14s 2ms/step\n",
      "[[87991  4441]\n",
      " [ 7864 79704]]\n"
     ]
    }
   ],
   "source": [
    "# Part 3 - Making predictions and evaluating the model\n",
    "# Predicting the Test set results\n",
    "y_pred_ann = classifier.predict(X_test)\n",
    "y_pred_ann = (y_pred_ann > 0.5)\n",
    "\n",
    "cm3 = confusion_matrix(y_test, y_pred_ann)\n",
    "print(cm3)"
   ]
  },
  {
   "cell_type": "code",
   "execution_count": 24,
   "id": "cf144bdf",
   "metadata": {},
   "outputs": [
    {
     "name": "stdout",
     "output_type": "stream",
     "text": [
      "93.16388888888889\n"
     ]
    }
   ],
   "source": [
    "# Making the Confusion Matrix\n",
    "from sklearn.metrics import accuracy_score\n",
    "\n",
    "score3 = accuracy_score(y_test,y_pred_ann)\n",
    "print(score3*100)"
   ]
  },
  {
   "cell_type": "code",
   "execution_count": null,
   "id": "71c27814",
   "metadata": {},
   "outputs": [],
   "source": []
  }
 ],
 "metadata": {
  "accelerator": "GPU",
  "colab": {
   "collapsed_sections": [
    "ah7sMvXLnCXO",
    "JM7e3Ma6z5Rh",
    "755bcdc0"
   ],
   "name": "XGB Model.ipynb",
   "provenance": []
  },
  "kernelspec": {
   "display_name": "Python 3 (ipykernel)",
   "language": "python",
   "name": "python3"
  },
  "language_info": {
   "codemirror_mode": {
    "name": "ipython",
    "version": 3
   },
   "file_extension": ".py",
   "mimetype": "text/x-python",
   "name": "python",
   "nbconvert_exporter": "python",
   "pygments_lexer": "ipython3",
   "version": "3.9.12"
  }
 },
 "nbformat": 4,
 "nbformat_minor": 5
}
